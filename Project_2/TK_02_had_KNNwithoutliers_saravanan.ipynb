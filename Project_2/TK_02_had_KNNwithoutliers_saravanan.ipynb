{
 "cells": [
  {
   "cell_type": "markdown",
   "id": "958b18c6-ba6c-4c26-b4d2-116d55530fd2",
   "metadata": {},
   "source": [
    "# Data PreProcessing"
   ]
  },
  {
   "cell_type": "markdown",
   "id": "47453088-c00f-49d6-b7ee-e3bdcce9b5a9",
   "metadata": {},
   "source": [
    "### *Import Libraries"
   ]
  },
  {
   "cell_type": "code",
   "execution_count": 2,
   "id": "40a13dce-1e38-447d-92cf-ca112f3c5181",
   "metadata": {},
   "outputs": [],
   "source": [
    "# define dataset\n",
    "import pandas as pd\n",
    "\n",
    "#missing values define\n",
    "import numpy as np\n",
    "\n",
    "#define data vizulisation\n",
    "import matplotlib.pyplot as plt\n",
    "import seaborn as sns\n",
    "\n",
    "#define model building\n",
    "from sklearn.preprocessing import StandardScaler\n",
    "from sklearn.impute import SimpleImputer\n",
    "from sklearn.model_selection import train_test_split\n",
    "from sklearn.neighbors import KNeighborsClassifier\n",
    "from sklearn.metrics import accuracy_score, confusion_matrix, classification_report"
   ]
  },
  {
   "cell_type": "markdown",
   "id": "5f5cb5f2-a58a-401d-96cc-4a2781e39c85",
   "metadata": {},
   "source": [
    "### *Importing DATA"
   ]
  },
  {
   "cell_type": "code",
   "execution_count": 5,
   "id": "15a12b08-3de2-41fc-bfe0-913b699f9274",
   "metadata": {},
   "outputs": [],
   "source": [
    "df = pd.read_csv('./Data/data.csv')"
   ]
  },
  {
   "cell_type": "markdown",
   "id": "49803e91-53ae-4a67-8602-6911af6b7ef7",
   "metadata": {},
   "source": [
    "### *EDA"
   ]
  },
  {
   "cell_type": "code",
   "execution_count": 7,
   "id": "178c65d1-626d-4724-8209-a7be892bcb9b",
   "metadata": {},
   "outputs": [
    {
     "data": {
      "text/plain": [
       "Index(['age', 'sex', 'cp', 'trestbps', 'chol', 'fbs', 'restecg', 'thalach',\n",
       "       'exang', 'oldpeak', 'slope', 'ca', 'thal', 'num       '],\n",
       "      dtype='object')"
      ]
     },
     "execution_count": 7,
     "metadata": {},
     "output_type": "execute_result"
    }
   ],
   "source": [
    "df.columns"
   ]
  },
  {
   "cell_type": "code",
   "execution_count": 8,
   "id": "7fff37ea-a50e-4107-8f31-384a766976a2",
   "metadata": {},
   "outputs": [
    {
     "data": {
      "text/html": [
       "<div>\n",
       "<style scoped>\n",
       "    .dataframe tbody tr th:only-of-type {\n",
       "        vertical-align: middle;\n",
       "    }\n",
       "\n",
       "    .dataframe tbody tr th {\n",
       "        vertical-align: top;\n",
       "    }\n",
       "\n",
       "    .dataframe thead th {\n",
       "        text-align: right;\n",
       "    }\n",
       "</style>\n",
       "<table border=\"1\" class=\"dataframe\">\n",
       "  <thead>\n",
       "    <tr style=\"text-align: right;\">\n",
       "      <th></th>\n",
       "      <th>age</th>\n",
       "      <th>sex</th>\n",
       "      <th>cp</th>\n",
       "      <th>trestbps</th>\n",
       "      <th>chol</th>\n",
       "      <th>fbs</th>\n",
       "      <th>restecg</th>\n",
       "      <th>thalach</th>\n",
       "      <th>exang</th>\n",
       "      <th>oldpeak</th>\n",
       "      <th>slope</th>\n",
       "      <th>ca</th>\n",
       "      <th>thal</th>\n",
       "      <th>num</th>\n",
       "    </tr>\n",
       "  </thead>\n",
       "  <tbody>\n",
       "    <tr>\n",
       "      <th>0</th>\n",
       "      <td>28</td>\n",
       "      <td>1</td>\n",
       "      <td>2</td>\n",
       "      <td>130</td>\n",
       "      <td>132</td>\n",
       "      <td>0</td>\n",
       "      <td>2</td>\n",
       "      <td>185</td>\n",
       "      <td>0</td>\n",
       "      <td>0.0</td>\n",
       "      <td>?</td>\n",
       "      <td>?</td>\n",
       "      <td>?</td>\n",
       "      <td>0</td>\n",
       "    </tr>\n",
       "    <tr>\n",
       "      <th>1</th>\n",
       "      <td>29</td>\n",
       "      <td>1</td>\n",
       "      <td>2</td>\n",
       "      <td>120</td>\n",
       "      <td>243</td>\n",
       "      <td>0</td>\n",
       "      <td>0</td>\n",
       "      <td>160</td>\n",
       "      <td>0</td>\n",
       "      <td>0.0</td>\n",
       "      <td>?</td>\n",
       "      <td>?</td>\n",
       "      <td>?</td>\n",
       "      <td>0</td>\n",
       "    </tr>\n",
       "    <tr>\n",
       "      <th>2</th>\n",
       "      <td>29</td>\n",
       "      <td>1</td>\n",
       "      <td>2</td>\n",
       "      <td>140</td>\n",
       "      <td>?</td>\n",
       "      <td>0</td>\n",
       "      <td>0</td>\n",
       "      <td>170</td>\n",
       "      <td>0</td>\n",
       "      <td>0.0</td>\n",
       "      <td>?</td>\n",
       "      <td>?</td>\n",
       "      <td>?</td>\n",
       "      <td>0</td>\n",
       "    </tr>\n",
       "    <tr>\n",
       "      <th>3</th>\n",
       "      <td>30</td>\n",
       "      <td>0</td>\n",
       "      <td>1</td>\n",
       "      <td>170</td>\n",
       "      <td>237</td>\n",
       "      <td>0</td>\n",
       "      <td>1</td>\n",
       "      <td>170</td>\n",
       "      <td>0</td>\n",
       "      <td>0.0</td>\n",
       "      <td>?</td>\n",
       "      <td>?</td>\n",
       "      <td>6</td>\n",
       "      <td>0</td>\n",
       "    </tr>\n",
       "    <tr>\n",
       "      <th>4</th>\n",
       "      <td>31</td>\n",
       "      <td>0</td>\n",
       "      <td>2</td>\n",
       "      <td>100</td>\n",
       "      <td>219</td>\n",
       "      <td>0</td>\n",
       "      <td>1</td>\n",
       "      <td>150</td>\n",
       "      <td>0</td>\n",
       "      <td>0.0</td>\n",
       "      <td>?</td>\n",
       "      <td>?</td>\n",
       "      <td>?</td>\n",
       "      <td>0</td>\n",
       "    </tr>\n",
       "  </tbody>\n",
       "</table>\n",
       "</div>"
      ],
      "text/plain": [
       "   age  sex  cp trestbps chol fbs restecg thalach exang  oldpeak slope ca  \\\n",
       "0   28    1   2      130  132   0       2     185     0      0.0     ?  ?   \n",
       "1   29    1   2      120  243   0       0     160     0      0.0     ?  ?   \n",
       "2   29    1   2      140    ?   0       0     170     0      0.0     ?  ?   \n",
       "3   30    0   1      170  237   0       1     170     0      0.0     ?  ?   \n",
       "4   31    0   2      100  219   0       1     150     0      0.0     ?  ?   \n",
       "\n",
       "  thal  num         \n",
       "0    ?           0  \n",
       "1    ?           0  \n",
       "2    ?           0  \n",
       "3    6           0  \n",
       "4    ?           0  "
      ]
     },
     "execution_count": 8,
     "metadata": {},
     "output_type": "execute_result"
    }
   ],
   "source": [
    "df.head()"
   ]
  },
  {
   "cell_type": "markdown",
   "id": "403b16dd-626c-4437-af16-c07c17daa612",
   "metadata": {},
   "source": [
    "### *Handling Missing Values"
   ]
  },
  {
   "cell_type": "code",
   "execution_count": 13,
   "id": "0c7e8625-0d8c-4cc6-96be-30eaac35b566",
   "metadata": {},
   "outputs": [
    {
     "data": {
      "text/plain": [
       "<bound method NDFrame.head of      age  sex  cp trestbps chol fbs restecg thalach exang  oldpeak slope   ca  \\\n",
       "0     28    1   2      130  132   0       2     185     0      0.0   NaN  NaN   \n",
       "1     29    1   2      120  243   0       0     160     0      0.0   NaN  NaN   \n",
       "2     29    1   2      140  NaN   0       0     170     0      0.0   NaN  NaN   \n",
       "3     30    0   1      170  237   0       1     170     0      0.0   NaN  NaN   \n",
       "4     31    0   2      100  219   0       1     150     0      0.0   NaN  NaN   \n",
       "..   ...  ...  ..      ...  ...  ..     ...     ...   ...      ...   ...  ...   \n",
       "289   52    1   4      160  331   0       0      94     1      2.5   NaN  NaN   \n",
       "290   54    0   3      130  294   0       1     100     1      0.0     2  NaN   \n",
       "291   56    1   4      155  342   1       0     150     1      3.0     2  NaN   \n",
       "292   58    0   2      180  393   0       0     110     1      1.0     2  NaN   \n",
       "293   65    1   4      130  275   0       1     115     1      1.0     2  NaN   \n",
       "\n",
       "    thal  num         \n",
       "0    NaN           0  \n",
       "1    NaN           0  \n",
       "2    NaN           0  \n",
       "3      6           0  \n",
       "4    NaN           0  \n",
       "..   ...         ...  \n",
       "289  NaN           1  \n",
       "290  NaN           1  \n",
       "291  NaN           1  \n",
       "292    7           1  \n",
       "293  NaN           1  \n",
       "\n",
       "[294 rows x 14 columns]>"
      ]
     },
     "execution_count": 13,
     "metadata": {},
     "output_type": "execute_result"
    }
   ],
   "source": [
    "# Replace \"?\" with np.nan\n",
    "df.replace(\"?\", np.nan, inplace=True)\n",
    "df.head"
   ]
  },
  {
   "cell_type": "code",
   "execution_count": 15,
   "id": "857b85e0-1f04-45ce-8054-d39d24c27da3",
   "metadata": {},
   "outputs": [
    {
     "data": {
      "text/plain": [
       "age             0\n",
       "sex             0\n",
       "cp              0\n",
       "trestbps        1\n",
       "chol           23\n",
       "fbs             8\n",
       "restecg         1\n",
       "thalach         1\n",
       "exang           1\n",
       "oldpeak         0\n",
       "slope         190\n",
       "ca            291\n",
       "thal          266\n",
       "num             0\n",
       "dtype: int64"
      ]
     },
     "execution_count": 15,
     "metadata": {},
     "output_type": "execute_result"
    }
   ],
   "source": [
    "df.isna().sum()"
   ]
  },
  {
   "cell_type": "markdown",
   "id": "ae822522-e357-427e-8aec-920b6157d993",
   "metadata": {},
   "source": [
    "### *Feature Engineering"
   ]
  },
  {
   "cell_type": "code",
   "execution_count": 18,
   "id": "5b5b8e7d-b557-44b7-87b5-42fb80b0760a",
   "metadata": {},
   "outputs": [],
   "source": [
    "# Separate target column before imputing\n",
    "target_column = 'num       '\n",
    "y = df[target_column]\n",
    "X = df.drop(columns=[target_column])"
   ]
  },
  {
   "cell_type": "code",
   "execution_count": 54,
   "id": "30f92dde-3bd1-4d08-85d4-373f23255fc5",
   "metadata": {},
   "outputs": [],
   "source": [
    "# Handle missing values\n",
    "imputer = SimpleImputer(strategy='mean')\n",
    "X_imputed = pd.DataFrame(imputer.fit_transform(X), columns=X.columns)"
   ]
  },
  {
   "cell_type": "code",
   "execution_count": 56,
   "id": "d6aaf4b1-3f5a-459c-b805-22c256c7d7fd",
   "metadata": {},
   "outputs": [
    {
     "data": {
      "text/html": [
       "<div>\n",
       "<style scoped>\n",
       "    .dataframe tbody tr th:only-of-type {\n",
       "        vertical-align: middle;\n",
       "    }\n",
       "\n",
       "    .dataframe tbody tr th {\n",
       "        vertical-align: top;\n",
       "    }\n",
       "\n",
       "    .dataframe thead th {\n",
       "        text-align: right;\n",
       "    }\n",
       "</style>\n",
       "<table border=\"1\" class=\"dataframe\">\n",
       "  <thead>\n",
       "    <tr style=\"text-align: right;\">\n",
       "      <th></th>\n",
       "      <th>age</th>\n",
       "      <th>sex</th>\n",
       "      <th>cp</th>\n",
       "      <th>trestbps</th>\n",
       "      <th>chol</th>\n",
       "      <th>fbs</th>\n",
       "      <th>restecg</th>\n",
       "      <th>thalach</th>\n",
       "      <th>exang</th>\n",
       "      <th>oldpeak</th>\n",
       "      <th>slope</th>\n",
       "      <th>ca</th>\n",
       "      <th>thal</th>\n",
       "    </tr>\n",
       "  </thead>\n",
       "  <tbody>\n",
       "    <tr>\n",
       "      <th>0</th>\n",
       "      <td>28.0</td>\n",
       "      <td>1.0</td>\n",
       "      <td>2.0</td>\n",
       "      <td>130.0</td>\n",
       "      <td>132.000000</td>\n",
       "      <td>0.0</td>\n",
       "      <td>2.0</td>\n",
       "      <td>185.0</td>\n",
       "      <td>0.0</td>\n",
       "      <td>0.0</td>\n",
       "      <td>1.894231</td>\n",
       "      <td>0.0</td>\n",
       "      <td>5.642857</td>\n",
       "    </tr>\n",
       "    <tr>\n",
       "      <th>1</th>\n",
       "      <td>29.0</td>\n",
       "      <td>1.0</td>\n",
       "      <td>2.0</td>\n",
       "      <td>120.0</td>\n",
       "      <td>243.000000</td>\n",
       "      <td>0.0</td>\n",
       "      <td>0.0</td>\n",
       "      <td>160.0</td>\n",
       "      <td>0.0</td>\n",
       "      <td>0.0</td>\n",
       "      <td>1.894231</td>\n",
       "      <td>0.0</td>\n",
       "      <td>5.642857</td>\n",
       "    </tr>\n",
       "    <tr>\n",
       "      <th>2</th>\n",
       "      <td>29.0</td>\n",
       "      <td>1.0</td>\n",
       "      <td>2.0</td>\n",
       "      <td>140.0</td>\n",
       "      <td>250.848708</td>\n",
       "      <td>0.0</td>\n",
       "      <td>0.0</td>\n",
       "      <td>170.0</td>\n",
       "      <td>0.0</td>\n",
       "      <td>0.0</td>\n",
       "      <td>1.894231</td>\n",
       "      <td>0.0</td>\n",
       "      <td>5.642857</td>\n",
       "    </tr>\n",
       "    <tr>\n",
       "      <th>3</th>\n",
       "      <td>30.0</td>\n",
       "      <td>0.0</td>\n",
       "      <td>1.0</td>\n",
       "      <td>170.0</td>\n",
       "      <td>237.000000</td>\n",
       "      <td>0.0</td>\n",
       "      <td>1.0</td>\n",
       "      <td>170.0</td>\n",
       "      <td>0.0</td>\n",
       "      <td>0.0</td>\n",
       "      <td>1.894231</td>\n",
       "      <td>0.0</td>\n",
       "      <td>6.000000</td>\n",
       "    </tr>\n",
       "    <tr>\n",
       "      <th>4</th>\n",
       "      <td>31.0</td>\n",
       "      <td>0.0</td>\n",
       "      <td>2.0</td>\n",
       "      <td>100.0</td>\n",
       "      <td>219.000000</td>\n",
       "      <td>0.0</td>\n",
       "      <td>1.0</td>\n",
       "      <td>150.0</td>\n",
       "      <td>0.0</td>\n",
       "      <td>0.0</td>\n",
       "      <td>1.894231</td>\n",
       "      <td>0.0</td>\n",
       "      <td>5.642857</td>\n",
       "    </tr>\n",
       "  </tbody>\n",
       "</table>\n",
       "</div>"
      ],
      "text/plain": [
       "    age  sex   cp  trestbps        chol  fbs  restecg  thalach  exang  \\\n",
       "0  28.0  1.0  2.0     130.0  132.000000  0.0      2.0    185.0    0.0   \n",
       "1  29.0  1.0  2.0     120.0  243.000000  0.0      0.0    160.0    0.0   \n",
       "2  29.0  1.0  2.0     140.0  250.848708  0.0      0.0    170.0    0.0   \n",
       "3  30.0  0.0  1.0     170.0  237.000000  0.0      1.0    170.0    0.0   \n",
       "4  31.0  0.0  2.0     100.0  219.000000  0.0      1.0    150.0    0.0   \n",
       "\n",
       "   oldpeak     slope   ca      thal  \n",
       "0      0.0  1.894231  0.0  5.642857  \n",
       "1      0.0  1.894231  0.0  5.642857  \n",
       "2      0.0  1.894231  0.0  5.642857  \n",
       "3      0.0  1.894231  0.0  6.000000  \n",
       "4      0.0  1.894231  0.0  5.642857  "
      ]
     },
     "execution_count": 56,
     "metadata": {},
     "output_type": "execute_result"
    }
   ],
   "source": [
    "X_imputed.head()"
   ]
  },
  {
   "cell_type": "code",
   "execution_count": 24,
   "id": "85ccc571-bf69-4a34-a69d-f8a8eb971680",
   "metadata": {},
   "outputs": [],
   "source": [
    "# # Normalize/scale the features\n",
    "# scaler = StandardScaler()\n",
    "# X_scaled = scaler.fit_transform(X_imputed)\n",
    "# print(X_scaled)"
   ]
  },
  {
   "cell_type": "markdown",
   "id": "a28abf0d-b67c-4c06-9298-2cabc02be7ac",
   "metadata": {},
   "source": [
    "### *Handling Outliers"
   ]
  },
  {
   "cell_type": "code",
   "execution_count": 27,
   "id": "36f90d0b-d3c6-4e4d-9482-41b34523b2ba",
   "metadata": {},
   "outputs": [
    {
     "data": {
      "image/png": "[encoded data removed]",
      "text/plain": [
       "<Figure size 640x480 with 1 Axes>"
      ]
     },
     "metadata": {},
     "output_type": "display_data"
    }
   ],
   "source": [
    "# Box plot\n",
    "sns.boxplot(data=X_imputed)\n",
    "plt.show()"
   ]
  },
  {
   "cell_type": "code",
   "execution_count": 28,
   "id": "afa08318-95e4-4375-9dc4-1b2b7172f5ca",
   "metadata": {},
   "outputs": [
    {
     "name": "stdout",
     "output_type": "stream",
     "text": [
      "Original DataFrame shape: (294, 14)\n",
      "Cleaned DataFrame shape: (170, 13)\n",
      "      age  sex   cp  trestbps        chol  fbs  restecg  thalach  exang  \\\n",
      "1    29.0  1.0  2.0     120.0  243.000000  0.0      0.0    160.0    0.0   \n",
      "2    29.0  1.0  2.0     140.0  250.848708  0.0      0.0    170.0    0.0   \n",
      "5    32.0  0.0  2.0     105.0  198.000000  0.0      0.0    165.0    0.0   \n",
      "6    32.0  1.0  2.0     110.0  225.000000  0.0      0.0    184.0    0.0   \n",
      "7    32.0  1.0  2.0     125.0  254.000000  0.0      0.0    155.0    0.0   \n",
      "..    ...  ...  ...       ...         ...  ...      ...      ...    ...   \n",
      "280  43.0  1.0  4.0     140.0  288.000000  0.0      0.0    135.0    1.0   \n",
      "284  49.0  1.0  4.0     128.0  212.000000  0.0      0.0     96.0    1.0   \n",
      "285  49.0  1.0  4.0     150.0  222.000000  0.0      0.0    122.0    0.0   \n",
      "288  52.0  1.0  4.0     140.0  266.000000  0.0      0.0    134.0    1.0   \n",
      "289  52.0  1.0  4.0     160.0  331.000000  0.0      0.0     94.0    1.0   \n",
      "\n",
      "     oldpeak     slope   ca      thal  \n",
      "1        0.0  1.894231  0.0  5.642857  \n",
      "2        0.0  1.894231  0.0  5.642857  \n",
      "5        0.0  1.894231  0.0  5.642857  \n",
      "6        0.0  1.894231  0.0  5.642857  \n",
      "7        0.0  1.894231  0.0  5.642857  \n",
      "..       ...       ...  ...       ...  \n",
      "280      2.0  2.000000  0.0  5.642857  \n",
      "284      0.0  1.894231  0.0  5.642857  \n",
      "285      2.0  2.000000  0.0  5.642857  \n",
      "288      2.0  2.000000  0.0  5.642857  \n",
      "289      2.5  1.894231  0.0  5.642857  \n",
      "\n",
      "[170 rows x 13 columns]\n"
     ]
    }
   ],
   "source": [
    "# Handling Outliers\n",
    "\n",
    "# Calculate Q1 (25th percentile) and Q3 (75th percentile)\n",
    "Q1 = X_imputed[['age',\t'sex', 'cp', 'trestbps', 'chol', 'fbs',\t'restecg', 'thalach', 'exang', 'oldpeak', 'slope', 'ca', 'thal']].quantile(0.25)\n",
    "Q3 = X_imputed[['age',\t'sex', 'cp', 'trestbps', 'chol', 'fbs',\t'restecg', 'thalach', 'exang', 'oldpeak', 'slope', 'ca', 'thal']].quantile(0.75)\n",
    "IQR = Q3 - Q1\n",
    "\n",
    "# Determine outlier bounds\n",
    "lower_bound = Q1 - 1.5 * IQR\n",
    "upper_bound = Q3 + 1.5 * IQR\n",
    "\n",
    "# Identify outliers\n",
    "outliers = ((X_imputed[['age',\t'sex', 'cp', 'trestbps', 'chol', 'fbs',\t'restecg', 'thalach', 'exang', 'oldpeak', 'slope', 'ca', 'thal']] < lower_bound) |\n",
    "            (X_imputed[['age',\t'sex', 'cp', 'trestbps', 'chol', 'fbs',\t'restecg', 'thalach', 'exang', 'oldpeak', 'slope', 'ca', 'thal']] > upper_bound)).any(axis=1)\n",
    "\n",
    "# Remove outliers\n",
    "df_cleaned = X_imputed[~outliers]\n",
    "\n",
    "# Output the cleaned DataFrame\n",
    "print(\"Original DataFrame shape:\", df.shape)\n",
    "print(\"Cleaned DataFrame shape:\", df_cleaned.shape)\n",
    "print(df_cleaned)"
   ]
  },
  {
   "cell_type": "markdown",
   "id": "3e8a5f47-5fa1-4f8a-8ed4-3ae7960ce133",
   "metadata": {},
   "source": [
    "### *Data Vizulisation"
   ]
  },
  {
   "cell_type": "code",
   "execution_count": 30,
   "id": "2f365c02-34f7-4f78-a573-f5a767b70ade",
   "metadata": {},
   "outputs": [
    {
     "data": {
      "text/plain": [
       "Index(['age', 'sex', 'cp', 'trestbps', 'chol', 'fbs', 'restecg', 'thalach',\n",
       "       'exang', 'oldpeak', 'slope', 'ca', 'thal'],\n",
       "      dtype='object')"
      ]
     },
     "execution_count": 30,
     "metadata": {},
     "output_type": "execute_result"
    }
   ],
   "source": [
    "df_cleaned.columns"
   ]
  },
  {
   "cell_type": "code",
   "execution_count": 31,
   "id": "8693e2f2-a144-4419-8626-9930658bcc77",
   "metadata": {},
   "outputs": [
    {
     "data": {
      "image/png": "[encoded data removed]",
      "text/plain": [
       "<Figure size 640x480 with 1 Axes>"
      ]
     },
     "metadata": {},
     "output_type": "display_data"
    }
   ],
   "source": [
    "# Box plot\n",
    "sns.boxplot(data=df_cleaned)\n",
    "plt.show()"
   ]
  },
  {
   "cell_type": "markdown",
   "id": "a305cdf1-05fe-492c-9aae-970a4e70c721",
   "metadata": {},
   "source": [
    "# Model building"
   ]
  },
  {
   "cell_type": "markdown",
   "id": "b345e7f1-36f2-4ac6-92ec-cf1ab8ccc39c",
   "metadata": {},
   "source": [
    "### *Train Test Split"
   ]
  },
  {
   "cell_type": "code",
   "execution_count": 34,
   "id": "7403f583-011b-4dd4-bb7d-b4982a2b0ec7",
   "metadata": {
    "scrolled": true
   },
   "outputs": [],
   "source": [
    "x_train,x_test,y_train,y_test=train_test_split(X_imputed,y,test_size=0.2,random_state=42)"
   ]
  },
  {
   "cell_type": "code",
   "execution_count": 35,
   "id": "7402f32f-522f-4a70-b389-36357eaf9b69",
   "metadata": {},
   "outputs": [
    {
     "data": {
      "text/plain": [
       "(235, 13)"
      ]
     },
     "execution_count": 35,
     "metadata": {},
     "output_type": "execute_result"
    }
   ],
   "source": [
    "x_train.shape"
   ]
  },
  {
   "cell_type": "code",
   "execution_count": 52,
   "id": "98ee6dd2-8098-4541-8bf6-7c28c764b290",
   "metadata": {},
   "outputs": [
    {
     "data": {
      "text/plain": [
       "(59, 13)"
      ]
     },
     "execution_count": 52,
     "metadata": {},
     "output_type": "execute_result"
    }
   ],
   "source": [
    "x_test.shape"
   ]
  },
  {
   "cell_type": "markdown",
   "id": "3ea40f34-73a5-4860-8291-6b9dc3480446",
   "metadata": {},
   "source": [
    "### *Model Initialization"
   ]
  },
  {
   "cell_type": "code",
   "execution_count": 37,
   "id": "57f38e10-1ce0-48a9-885f-16046feebfe0",
   "metadata": {},
   "outputs": [],
   "source": [
    "model=KNeighborsClassifier(n_neighbors=3)"
   ]
  },
  {
   "cell_type": "markdown",
   "id": "4566170e-b088-456a-bb48-70b8181bf692",
   "metadata": {},
   "source": [
    "### *Model Training"
   ]
  },
  {
   "cell_type": "code",
   "execution_count": 41,
   "id": "f0e3146a-7678-410f-90d7-c7f964d6808a",
   "metadata": {},
   "outputs": [
    {
     "data": {
      "text/html": [
       "<style>#sk-container-id-1 {color: black;background-color: white;}#sk-container-id-1 pre{padding: 0;}#sk-container-id-1 div.sk-toggleable {background-color: white;}#sk-container-id-1 label.sk-toggleable__label {cursor: pointer;display: block;width: 100%;margin-bottom: 0;padding: 0.3em;box-sizing: border-box;text-align: center;}#sk-container-id-1 label.sk-toggleable__label-arrow:before {content: \"▸\";float: left;margin-right: 0.25em;color: #696969;}#sk-container-id-1 label.sk-toggleable__label-arrow:hover:before {color: black;}#sk-container-id-1 div.sk-estimator:hover label.sk-toggleable__label-arrow:before {color: black;}#sk-container-id-1 div.sk-toggleable__content {max-height: 0;max-width: 0;overflow: hidden;text-align: left;background-color: #f0f8ff;}#sk-container-id-1 div.sk-toggleable__content pre {margin: 0.2em;color: black;border-radius: 0.25em;background-color: #f0f8ff;}#sk-container-id-1 input.sk-toggleable__control:checked~div.sk-toggleable__content {max-height: 200px;max-width: 100%;overflow: auto;}#sk-container-id-1 input.sk-toggleable__control:checked~label.sk-toggleable__label-arrow:before {content: \"▾\";}#sk-container-id-1 div.sk-estimator input.sk-toggleable__control:checked~label.sk-toggleable__label {background-color: #d4ebff;}#sk-container-id-1 div.sk-label input.sk-toggleable__control:checked~label.sk-toggleable__label {background-color: #d4ebff;}#sk-container-id-1 input.sk-hidden--visually {border: 0;clip: rect(1px 1px 1px 1px);clip: rect(1px, 1px, 1px, 1px);height: 1px;margin: -1px;overflow: hidden;padding: 0;position: absolute;width: 1px;}#sk-container-id-1 div.sk-estimator {font-family: monospace;background-color: #f0f8ff;border: 1px dotted black;border-radius: 0.25em;box-sizing: border-box;margin-bottom: 0.5em;}#sk-container-id-1 div.sk-estimator:hover {background-color: #d4ebff;}#sk-container-id-1 div.sk-parallel-item::after {content: \"\";width: 100%;border-bottom: 1px solid gray;flex-grow: 1;}#sk-container-id-1 div.sk-label:hover label.sk-toggleable__label {background-color: #d4ebff;}#sk-container-id-1 div.sk-serial::before {content: \"\";position: absolute;border-left: 1px solid gray;box-sizing: border-box;top: 0;bottom: 0;left: 50%;z-index: 0;}#sk-container-id-1 div.sk-serial {display: flex;flex-direction: column;align-items: center;background-color: white;padding-right: 0.2em;padding-left: 0.2em;position: relative;}#sk-container-id-1 div.sk-item {position: relative;z-index: 1;}#sk-container-id-1 div.sk-parallel {display: flex;align-items: stretch;justify-content: center;background-color: white;position: relative;}#sk-container-id-1 div.sk-item::before, #sk-container-id-1 div.sk-parallel-item::before {content: \"\";position: absolute;border-left: 1px solid gray;box-sizing: border-box;top: 0;bottom: 0;left: 50%;z-index: -1;}#sk-container-id-1 div.sk-parallel-item {display: flex;flex-direction: column;z-index: 1;position: relative;background-color: white;}#sk-container-id-1 div.sk-parallel-item:first-child::after {align-self: flex-end;width: 50%;}#sk-container-id-1 div.sk-parallel-item:last-child::after {align-self: flex-start;width: 50%;}#sk-container-id-1 div.sk-parallel-item:only-child::after {width: 0;}#sk-container-id-1 div.sk-dashed-wrapped {border: 1px dashed gray;margin: 0 0.4em 0.5em 0.4em;box-sizing: border-box;padding-bottom: 0.4em;background-color: white;}#sk-container-id-1 div.sk-label label {font-family: monospace;font-weight: bold;display: inline-block;line-height: 1.2em;}#sk-container-id-1 div.sk-label-container {text-align: center;}#sk-container-id-1 div.sk-container {/* jupyter's `normalize.less` sets `[hidden] { display: none; }` but bootstrap.min.css set `[hidden] { display: none !important; }` so we also need the `!important` here to be able to override the default hidden behavior on the sphinx rendered scikit-learn.org. See: https://github.com/scikit-learn/scikit-learn/issues/21755 */display: inline-block !important;position: relative;}#sk-container-id-1 div.sk-text-repr-fallback {display: none;}</style><div id=\"sk-container-id-1\" class=\"sk-top-container\"><div class=\"sk-text-repr-fallback\"><pre>KNeighborsClassifier(n_neighbors=3)</pre><b>In a Jupyter environment, please rerun this cell to show the HTML representation or trust the notebook. <br />On GitHub, the HTML representation is unable to render, please try loading this page with nbviewer.org.</b></div><div class=\"sk-container\" hidden><div class=\"sk-item\"><div class=\"sk-estimator sk-toggleable\"><input class=\"sk-toggleable__control sk-hidden--visually\" id=\"sk-estimator-id-1\" type=\"checkbox\" checked><label for=\"sk-estimator-id-1\" class=\"sk-toggleable__label sk-toggleable__label-arrow\">KNeighborsClassifier</label><div class=\"sk-toggleable__content\"><pre>KNeighborsClassifier(n_neighbors=3)</pre></div></div></div></div></div>"
      ],
      "text/plain": [
       "KNeighborsClassifier(n_neighbors=3)"
      ]
     },
     "execution_count": 41,
     "metadata": {},
     "output_type": "execute_result"
    }
   ],
   "source": [
    "model.fit(x_train,y_train)"
   ]
  },
  {
   "cell_type": "markdown",
   "id": "2da219e9-5aff-4bdb-bf0d-02fdcfae0eb5",
   "metadata": {},
   "source": [
    "### *Hyper Parameter tuning"
   ]
  },
  {
   "cell_type": "markdown",
   "id": "6841e1f3-27de-473d-bdff-f132ac4d2916",
   "metadata": {},
   "source": [
    "# evaluation & Result:"
   ]
  },
  {
   "cell_type": "code",
   "execution_count": 48,
   "id": "6c50630c-8481-47a7-85ab-487e4e6b1244",
   "metadata": {},
   "outputs": [
    {
     "name": "stdout",
     "output_type": "stream",
     "text": [
      "Accuracy: 0.6610169491525424\n",
      "Confusion Matrix:\n",
      "[[30  8]\n",
      " [12  9]]\n",
      "Classification Report:\n",
      "              precision    recall  f1-score   support\n",
      "\n",
      "           0       0.71      0.79      0.75        38\n",
      "           1       0.53      0.43      0.47        21\n",
      "\n",
      "    accuracy                           0.66        59\n",
      "   macro avg       0.62      0.61      0.61        59\n",
      "weighted avg       0.65      0.66      0.65        59\n",
      "\n"
     ]
    }
   ],
   "source": [
    "# Predict and evaluate the model\n",
    "y_pred = model.predict(x_test)\n",
    "accuracy = accuracy_score(y_test, y_pred)\n",
    "conf_matrix = confusion_matrix(y_test, y_pred)\n",
    "class_report = classification_report(y_test, y_pred)\n",
    "\n",
    "print(f\"Accuracy: {accuracy}\")\n",
    "print(\"Confusion Matrix:\")\n",
    "print(conf_matrix)\n",
    "print(\"Classification Report:\")\n",
    "print(class_report)"
   ]
  },
  {
   "cell_type": "code",
   "execution_count": null,
   "id": "a90dc528-e5c3-404b-b304-1a691d2626a9",
   "metadata": {},
   "outputs": [],
   "source": []
  }
 ],
 "metadata": {
  "kernelspec": {
   "display_name": "Python 3 (ipykernel)",
   "language": "python",
   "name": "python3"
  },
  "language_info": {
   "codemirror_mode": {
    "name": "ipython",
    "version": 3
   },
   "file_extension": ".py",
   "mimetype": "text/x-python",
   "name": "python",
   "nbconvert_exporter": "python",
   "pygments_lexer": "ipython3",
   "version": "3.11.7"
  }
 },
 "nbformat": 4,
 "nbformat_minor": 5
}
